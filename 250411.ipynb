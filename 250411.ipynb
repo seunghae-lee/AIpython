{
 "cells": [
  {
   "cell_type": "code",
   "execution_count": 13,
   "id": "5510f55f-ca8a-4029-abb7-c5b120b42456",
   "metadata": {},
   "outputs": [
    {
     "name": "stdout",
     "output_type": "stream",
     "text": [
      "남자\n"
     ]
    }
   ],
   "source": [
    "# 가상의 주민등록번호 만들기(000000-0000000)\n",
    "id = '250411-3111111'\n",
    "if id[0] == '0' or id[0] == '1' or id[0] == '2':\n",
    "    if id[7] == '3':\n",
    "        print(\"남자\")\n",
    "    elif id[7] == '4':\n",
    "        print(\"여자\")\n",
    "    else:\n",
    "        print(\"옳지 못한 입력입니다.\")\n",
    "else: \n",
    "    if id[7] == '1':\n",
    "        print(\"남자\")\n",
    "    elif id[7] == '2':\n",
    "        print(\"여자\")\n",
    "    else:\n",
    "        print(\"옳지 못한 입력입니다.\")"
   ]
  },
  {
   "cell_type": "code",
   "execution_count": 15,
   "id": "5714299a-4b97-4990-920a-b3cf4f024cfc",
   "metadata": {},
   "outputs": [
    {
     "name": "stdin",
     "output_type": "stream",
     "text": [
      "당신의 주민등록번호를 '-' 포함 입력해주세요:  990101-1111111\n"
     ]
    },
    {
     "name": "stdout",
     "output_type": "stream",
     "text": [
      "남자\n"
     ]
    }
   ],
   "source": [
    "# 가상의 주민등록번호 만들기(000000-0000000)\n",
    "id = input('당신의 주민등록번호를 \\'-\\' 포함 입력해주세요: ')\n",
    "if id[0] == '0' or id[0] == '1' or id[0] == '2':\n",
    "    if id[7] == '3':\n",
    "        print(\"남자\")\n",
    "    elif id[7] == '4':\n",
    "        print(\"여자\")\n",
    "    else:\n",
    "        print(\"옳지 못한 입력입니다.\")\n",
    "else: \n",
    "    if id[7] == '1':\n",
    "        print(\"남자\")\n",
    "    elif id[7] == '2':\n",
    "        print(\"여자\")\n",
    "    else:\n",
    "        print(\"옳지 못한 입력입니다.\")"
   ]
  },
  {
   "cell_type": "code",
   "execution_count": 12,
   "id": "ce2c35ed-bab3-4d29-b62b-479239108244",
   "metadata": {},
   "outputs": [
    {
     "name": "stdin",
     "output_type": "stream",
     "text": [
      "문자열:  aba\n"
     ]
    },
    {
     "name": "stdout",
     "output_type": "stream",
     "text": [
      "회문\n"
     ]
    }
   ],
   "source": [
    "#회문 판별하기\n",
    "s1 = input('문자열: ')\n",
    "s2 = ''\n",
    "\n",
    "for i in range(len(s1)-1,-1,-1):\n",
    "    s2 =s2 + s1[i]\n",
    "\n",
    "if s1 == s2:\n",
    "    print(\"회문\")\n",
    "else:\n",
    "    print(\"회문아님\")"
   ]
  },
  {
   "cell_type": "code",
   "execution_count": 16,
   "id": "143e4d0b-2316-410b-8793-b1eed05a2858",
   "metadata": {},
   "outputs": [
    {
     "name": "stdin",
     "output_type": "stream",
     "text": [
      "영어 단어 또는 exit:  Hello\n",
      "영어 단어 또는 exit:  PYTHON\n",
      "영어 단어 또는 exit:  exit\n"
     ]
    },
    {
     "name": "stdout",
     "output_type": "stream",
     "text": [
      "hello\n",
      "python\n"
     ]
    }
   ],
   "source": [
    "#대소문자 변환하기\n",
    "lower_list = []\n",
    "\n",
    "while True:\n",
    "    s = input('영어 단어 또는 exit: ')\n",
    "    if s == 'exit':\n",
    "        break\n",
    "    lower_list.append(s.lower())\n",
    "for a in lower_list:\n",
    "    print(a)"
   ]
  },
  {
   "cell_type": "code",
   "execution_count": 18,
   "id": "21ce8edb-9d95-4001-a4d3-9027f2192dac",
   "metadata": {},
   "outputs": [
    {
     "name": "stdin",
     "output_type": "stream",
     "text": [
      "문자열:  희망이 넘치는 대한민국\n"
     ]
    },
    {
     "name": "stdout",
     "output_type": "stream",
     "text": [
      "포함\n"
     ]
    }
   ],
   "source": [
    "#문자열 찾기\n",
    "s = input('문자열: ')\n",
    "if s.find('희망') != -1:\n",
    "    print('포함')\n",
    "else:\n",
    "    print('포함 안됨')"
   ]
  },
  {
   "cell_type": "code",
   "execution_count": 19,
   "id": "342c89f6-daf5-49d4-ab47-a6c13d6592b1",
   "metadata": {},
   "outputs": [
    {
     "name": "stdout",
     "output_type": "stream",
     "text": [
      "['부산시', '금정구']\n"
     ]
    }
   ],
   "source": [
    "#split\n",
    "s = '부산시 금정구'\n",
    "print(s.split(' '))"
   ]
  },
  {
   "cell_type": "code",
   "execution_count": 21,
   "id": "00563b40-8e08-4dcb-8e6d-657c77b4dcec",
   "metadata": {},
   "outputs": [
    {
     "name": "stdout",
     "output_type": "stream",
     "text": [
      "부산시 금정구\n"
     ]
    }
   ],
   "source": [
    "#join\n",
    "s = ['부산시', '금정구']\n",
    "print(' '.join(s))"
   ]
  },
  {
   "cell_type": "code",
   "execution_count": 22,
   "id": "078d836e-809b-4df4-b902-d9d81647637a",
   "metadata": {},
   "outputs": [
    {
     "name": "stdin",
     "output_type": "stream",
     "text": [
      "비밀번호를 입력하세요:  ab\n"
     ]
    },
    {
     "name": "stdout",
     "output_type": "stream",
     "text": [
      "다시 입력하세요\n"
     ]
    },
    {
     "name": "stdin",
     "output_type": "stream",
     "text": [
      "비밀번호를 입력하세요:  12\n"
     ]
    },
    {
     "name": "stdout",
     "output_type": "stream",
     "text": [
      "다시 입력하세요\n"
     ]
    },
    {
     "name": "stdin",
     "output_type": "stream",
     "text": [
      "비밀번호를 입력하세요:  ab123\n"
     ]
    },
    {
     "name": "stdout",
     "output_type": "stream",
     "text": [
      "통과\n"
     ]
    }
   ],
   "source": [
    "#사용자 비밀번호 입력 받아서 문자와 숫자 적혀있으면 통과 아니면 다시 입력받기\n",
    "\n",
    "while True:\n",
    "  password = input(\"비밀번호를 입력하세요: \")\n",
    "  if password.isalnum() and not password.isdigit() and not password.isalpha():\n",
    "    print(\"통과\")\n",
    "    break\n",
    "  else:\n",
    "    print(\"다시 입력하세요\")"
   ]
  },
  {
   "cell_type": "code",
   "execution_count": null,
   "id": "86d21ee3-0a7f-404d-b276-6e58ef43d6f1",
   "metadata": {},
   "outputs": [],
   "source": [
    "# 단어의 빈도수 세기\n",
    "문장 = \"나는 파이썬을 공부한다 파이썬은 재미있다 나는 코딩을 좋아한다\"\n",
    "단어들 = 문장.split() #리스트 형태로 저장\n",
    "빈도수 = {} #빈 딕셔너리\n",
    "\n",
    "for 단어 in 단어들:\n",
    "    if 단어 in 빈도수:\n",
    "        빈도수[단어] += 1\n",
    "    else:\n",
    "        빈도수[단어] = 1\n",
    "\n",
    "print(빈도수)"
   ]
  }
 ],
 "metadata": {
  "kernelspec": {
   "display_name": "Python 3 (ipykernel)",
   "language": "python",
   "name": "python3"
  },
  "language_info": {
   "codemirror_mode": {
    "name": "ipython",
    "version": 3
   },
   "file_extension": ".py",
   "mimetype": "text/x-python",
   "name": "python",
   "nbconvert_exporter": "python",
   "pygments_lexer": "ipython3",
   "version": "3.12.6"
  }
 },
 "nbformat": 4,
 "nbformat_minor": 5
}
