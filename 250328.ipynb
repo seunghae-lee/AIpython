{
  "nbformat": 4,
  "nbformat_minor": 0,
  "metadata": {
    "colab": {
      "provenance": []
    },
    "kernelspec": {
      "name": "python3",
      "display_name": "Python 3"
    },
    "language_info": {
      "name": "python"
    }
  },
  "cells": [
    {
      "cell_type": "code",
      "execution_count": 41,
      "metadata": {
        "colab": {
          "base_uri": "https://localhost:8080/"
        },
        "id": "CWj68ErvPDyd",
        "outputId": "b974603e-89bc-45f3-9881-43647b32f60a"
      },
      "outputs": [
        {
          "output_type": "stream",
          "name": "stdout",
          "text": [
            "첫 번째 정수를 입력하세요: 3\n",
            "두 번째 정수를 입력하세요: 6\n",
            "3은(는) 6보다 작습니다.\n"
          ]
        }
      ],
      "source": [
        "# 문제 1 : 두 수 비교하기\n",
        "\n",
        "num1 = int(input(\"첫 번째 정수를 입력하세요: \"))\n",
        "num2 = int(input(\"두 번째 정수를 입력하세요: \"))\n",
        "\n",
        "if num1 > num2:\n",
        "  print(f\"{num1}은(는) {num2}보다 큽니다.\")\n",
        "elif num1 < num2:\n",
        "  print(f\"{num1}은(는) {num2}보다 작습니다.\")\n",
        "elif num1 == num2:\n",
        "  print(f\"{num1}과(와) {num2}은(는) 같습니다.\")\n",
        "else:\n",
        "  print(\"유효한 정수를 입력하세요.\")\n",
        ""
      ]
    },
    {
      "cell_type": "code",
      "source": [
        "# 문제 2 : 세 수 중 가장 큰 수 찾기\n",
        "\n",
        "num1 = int(input(\"첫 번재 정수를 입력하세요: \"))\n",
        "num2 = int(input(\"두 번재 정수를 입력하세요: \"))\n",
        "num3 = int(input(\"세 번재 정수를 입력하세요: \"))\n",
        "\n",
        "max_num = num1\n",
        "\n",
        "if max_num < num2:\n",
        "  max_num = num2\n",
        "\n",
        "if max_num < num3:\n",
        "  max_num = num3\n",
        "\n",
        "print(f\"입력하신 정수 {num1}, {num2}, {num3} 중에서 가장 큰 정수는 {max_num}입니다.\")"
      ],
      "metadata": {
        "colab": {
          "base_uri": "https://localhost:8080/"
        },
        "id": "ODh0__tKXeq8",
        "outputId": "43902ac9-10aa-4c2b-a7c6-73603224ab91"
      },
      "execution_count": 18,
      "outputs": [
        {
          "output_type": "stream",
          "name": "stdout",
          "text": [
            "첫 번재 정수를 입력하세요: 8\n",
            "두 번재 정수를 입력하세요: 5\n",
            "세 번재 정수를 입력하세요: 6\n",
            "입력하신 정수 8, 5, 6 중에서 가장 큰 정수는 8입니다.\n"
          ]
        }
      ]
    },
    {
      "cell_type": "code",
      "source": [
        "# 문제 3  : 학점 판별하기\n",
        "\n",
        "score = int(input(\"시험 점수(0~100)를 입력하세요: \"))\n",
        "if 0 <= score <= 100:\n",
        "  if score >= 90:\n",
        "    grade = 'A'\n",
        "  elif score >= 80:\n",
        "    grade = 'B'\n",
        "  elif score >= 70:\n",
        "    grade = 'C'\n",
        "  elif score >= 60:\n",
        "    grade = 'D'\n",
        "  else:\n",
        "    grade = 'F'\n",
        "  print(f\"당신의 학점은 {grade}입니다.\")\n",
        "else:\n",
        "  print(\"점수는 0부터 100 사이의 값이어야 합니다.\")\n",
        "\n"
      ],
      "metadata": {
        "colab": {
          "base_uri": "https://localhost:8080/"
        },
        "id": "xb6sM8JsXsIs",
        "outputId": "7ddcf731-e7ab-4078-aa67-2fd05a671f57"
      },
      "execution_count": 34,
      "outputs": [
        {
          "output_type": "stream",
          "name": "stdout",
          "text": [
            "시험 점수(0~100)를 입력하세요: 20\n",
            "당신의 학점은 F입니다.\n"
          ]
        }
      ]
    },
    {
      "cell_type": "code",
      "source": [
        "# 문제 4 : 윤년 판별하기\n",
        "\n",
        "year = int(input(\"연도를 입력하세요.\"))\n",
        "\n",
        "if (year % 4 == 0 and year % 100 != 0) or (year % 400 == 0):\n",
        "  print(f\"{year}년은(는) 윤년 입니다.\")\n",
        "else:\n",
        "  print(f\"{year}년은(는) 윤년이 아닙니다.\")"
      ],
      "metadata": {
        "colab": {
          "base_uri": "https://localhost:8080/"
        },
        "id": "R4xTfpIRentN",
        "outputId": "aa3a4c5a-e06b-4dfe-a508-b3e61caa1740"
      },
      "execution_count": 30,
      "outputs": [
        {
          "output_type": "stream",
          "name": "stdout",
          "text": [
            "연도를 입력하세요.2020\n",
            "2020년은(는) 윤년 입니다.\n"
          ]
        }
      ]
    },
    {
      "cell_type": "code",
      "source": [
        "# for 반복문(1,2,3,4,5), 조건 없을 때 사용, RANGE, STOP, STEP, START\n",
        "for i in range(5):\n",
        "  print(\"반복!\",i+1)"
      ],
      "metadata": {
        "colab": {
          "base_uri": "https://localhost:8080/"
        },
        "id": "4VWxpCHalnoF",
        "outputId": "d93e13e1-85f7-45a8-89a5-fbe8ee2efd6f"
      },
      "execution_count": 44,
      "outputs": [
        {
          "output_type": "stream",
          "name": "stdout",
          "text": [
            "반복! 1\n",
            "반복! 2\n",
            "반복! 3\n",
            "반복! 4\n",
            "반복! 5\n"
          ]
        }
      ]
    },
    {
      "cell_type": "code",
      "source": [
        "# for 반복문(1,2,3,4,5)\n",
        "for i in range(1,6):\n",
        "  print(\"반복!\",i)"
      ],
      "metadata": {
        "colab": {
          "base_uri": "https://localhost:8080/"
        },
        "id": "FDjONRVim28N",
        "outputId": "0400f6aa-a785-40e0-e1d2-c0a31b30ac28"
      },
      "execution_count": 45,
      "outputs": [
        {
          "output_type": "stream",
          "name": "stdout",
          "text": [
            "반복! 1\n",
            "반복! 2\n",
            "반복! 3\n",
            "반복! 4\n",
            "반복! 5\n"
          ]
        }
      ]
    },
    {
      "cell_type": "code",
      "source": [
        "# for 반복문(2씩 넘어감)\n",
        "for i in range(1,10,2):\n",
        "  print(\"반복!\",i)"
      ],
      "metadata": {
        "colab": {
          "base_uri": "https://localhost:8080/"
        },
        "id": "Gy-TNtTEm83U",
        "outputId": "774e9156-a6c8-4735-a9a3-9257816f3f73"
      },
      "execution_count": 46,
      "outputs": [
        {
          "output_type": "stream",
          "name": "stdout",
          "text": [
            "반복! 1\n",
            "반복! 3\n",
            "반복! 5\n",
            "반복! 7\n",
            "반복! 9\n"
          ]
        }
      ]
    },
    {
      "cell_type": "code",
      "source": [
        "# for 반복문(리스트)\n",
        "for i in ['A','B',3,4,5]:\n",
        "  print(\"반복!\",i)"
      ],
      "metadata": {
        "colab": {
          "base_uri": "https://localhost:8080/"
        },
        "id": "qRle04DZnMPd",
        "outputId": "c57d723d-d3f1-4425-ef61-7cca263f09e9"
      },
      "execution_count": 49,
      "outputs": [
        {
          "output_type": "stream",
          "name": "stdout",
          "text": [
            "반복! A\n",
            "반복! B\n",
            "반복! 3\n",
            "반복! 4\n",
            "반복! 5\n"
          ]
        }
      ]
    },
    {
      "cell_type": "code",
      "source": [
        "# While문, 축약대입연산자(+=), 조건 있을 때 사용\n",
        "\n",
        "count = 0\n",
        "while count < 3:\n",
        "  print(\"반복 중\", count)\n",
        "  count += 1"
      ],
      "metadata": {
        "colab": {
          "base_uri": "https://localhost:8080/"
        },
        "id": "Qa9XLlBaoSCl",
        "outputId": "853b81eb-3c1c-4f89-998f-764dea13cf97"
      },
      "execution_count": 51,
      "outputs": [
        {
          "output_type": "stream",
          "name": "stdout",
          "text": [
            "반복 중 0\n",
            "반복 중 1\n",
            "반복 중 2\n"
          ]
        }
      ]
    },
    {
      "cell_type": "code",
      "source": [
        "# 문제 1 : 1부터 N까지의합 계산하기\n",
        "\n",
        "N = int(input(\"양의 정수 N을 입력하세요: \"))\n",
        "sum = 0\n",
        "\n",
        "for i in range(1,N+1):\n",
        "  sum += i\n",
        "\n",
        "print(f\"1부터 {N}까지의 합은 : {sum}입니다.\")"
      ],
      "metadata": {
        "colab": {
          "base_uri": "https://localhost:8080/"
        },
        "id": "DE0uq2vypV5N",
        "outputId": "96db3ef9-8a5b-4e18-8ad4-ed2f2a05d17f"
      },
      "execution_count": 60,
      "outputs": [
        {
          "output_type": "stream",
          "name": "stdout",
          "text": [
            "양의 정수 N을 입력하세요: 6\n",
            "1부터 6까지의 합은 : 21입니다.\n"
          ]
        }
      ]
    },
    {
      "cell_type": "code",
      "source": [
        "# 문제 4 : 특정 조건까지 반복하기 (while 조건문)\n",
        "\n",
        "count = 0\n",
        "print(\"0에서 9까지 출력:\")\n",
        "while count < 10:\n",
        "  print(count)\n",
        "  count += 1\n",
        "print(\"While 루프 종료\")"
      ],
      "metadata": {
        "colab": {
          "base_uri": "https://localhost:8080/"
        },
        "id": "TrllUF7AsKzu",
        "outputId": "ba0045e1-cf8b-49d4-e20a-9b4569ab902e"
      },
      "execution_count": 62,
      "outputs": [
        {
          "output_type": "stream",
          "name": "stdout",
          "text": [
            "0에서 9까지 출력:\n",
            "0\n",
            "1\n",
            "2\n",
            "3\n",
            "4\n",
            "5\n",
            "6\n",
            "7\n",
            "8\n",
            "9\n",
            "While 루프 종료\n"
          ]
        }
      ]
    },
    {
      "cell_type": "code",
      "source": [
        "# 문제 4 : 특정 조건까지 반복하기 (for 조건문)\n",
        "\n",
        "print(\"0에서 9까지 출력: \")\n",
        "\n",
        "for i in range(10):\n",
        "  print(i)\n",
        "\n",
        "print(\"for 루프 종료\")"
      ],
      "metadata": {
        "colab": {
          "base_uri": "https://localhost:8080/"
        },
        "id": "E89QE9Gxs-9W",
        "outputId": "fef2ed24-7c81-4951-9cab-22d97abb4053"
      },
      "execution_count": 64,
      "outputs": [
        {
          "output_type": "stream",
          "name": "stdout",
          "text": [
            "0에서 9까지 출력: \n",
            "0\n",
            "1\n",
            "2\n",
            "3\n",
            "4\n",
            "5\n",
            "6\n",
            "7\n",
            "8\n",
            "9\n",
            "for 루프 종료\n"
          ]
        }
      ]
    }
  ]
}