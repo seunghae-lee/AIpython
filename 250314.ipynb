{
  "nbformat": 4,
  "nbformat_minor": 0,
  "metadata": {
    "colab": {
      "provenance": []
    },
    "kernelspec": {
      "name": "python3",
      "display_name": "Python 3"
    },
    "language_info": {
      "name": "python"
    }
  },
  "cells": [
    {
      "cell_type": "code",
      "execution_count": 24,
      "metadata": {
        "colab": {
          "base_uri": "https://localhost:8080/"
        },
        "id": "XtbXUIBSdsul",
        "outputId": "88466fd7-49b4-48bd-81c0-d99f2e6f295d"
      },
      "outputs": [
        {
          "output_type": "stream",
          "name": "stdout",
          "text": [
            "반지름이 5인 원의 면적은 78.5398 입니다\n"
          ]
        }
      ],
      "source": [
        "#문제1 : 반지름이 5인 원의 면적을 구하시오\n",
        "원주율 = 3.141592\n",
        "면적 = 5**2*원주율\n",
        "\n",
        "print(\"반지름이 5인 원의 면적은\",면적,\"입니다\")"
      ]
    },
    {
      "cell_type": "code",
      "source": [
        "#분(정수)을 시간과 분으로 변환하여 출력하시오\n",
        "n = 100\n",
        "h = 60\n",
        "\n",
        "시간 = n//h\n",
        "분 = n%h\n",
        "\n",
        "print(str(n) + \"분은\",str(시간) + \"시간\",str(분) + \"분 입니다\")"
      ],
      "metadata": {
        "colab": {
          "base_uri": "https://localhost:8080/"
        },
        "id": "cC2XEB7KfGwu",
        "outputId": "27f5e4da-cd6a-4b6e-c764-6788276f7260"
      },
      "execution_count": 30,
      "outputs": [
        {
          "output_type": "stream",
          "name": "stdout",
          "text": [
            "100분은 1시간 40분 입니다\n"
          ]
        }
      ]
    }
  ]
}