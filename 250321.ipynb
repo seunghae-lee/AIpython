{
 "cells": [
  {
   "cell_type": "code",
   "execution_count": 2,
   "id": "38f2e76e-de37-4939-bf50-93abca34e47a",
   "metadata": {},
   "outputs": [
    {
     "name": "stdin",
     "output_type": "stream",
     "text": [
      "나이를 입력하세요: 20\n"
     ]
    },
    {
     "name": "stdout",
     "output_type": "stream",
     "text": [
      "당신은 내년에 21 살입니다.\n"
     ]
    }
   ],
   "source": [
    "age = input(\"나이를 입력하세요:\")\n",
    "age = int(age)\n",
    "print(\"당신은 내년에\", age+1, \"살입니다.\")"
   ]
  },
  {
   "cell_type": "code",
   "execution_count": 3,
   "id": "a74a5791-7b26-4c06-b0e8-19bff18ca333",
   "metadata": {},
   "outputs": [
    {
     "name": "stdin",
     "output_type": "stream",
     "text": [
      "나이를 입력하세요: 10\n"
     ]
    },
    {
     "name": "stdout",
     "output_type": "stream",
     "text": [
      "당신은 내년에 11 살입니다.\n"
     ]
    }
   ],
   "source": [
    "age = input(\"나이를 입력하세요:\")\n",
    "age = int(age)\n",
    "future_age = age+1\n",
    "print(\"당신은 내년에\", future_age, \"살입니다.\")"
   ]
  },
  {
   "cell_type": "code",
   "execution_count": 5,
   "id": "83b4b87e-31e5-4b0e-937f-3ed5900d5d95",
   "metadata": {},
   "outputs": [
    {
     "name": "stdin",
     "output_type": "stream",
     "text": [
      "나이를 입력 10\n"
     ]
    },
    {
     "name": "stdout",
     "output_type": "stream",
     "text": [
      "10살입니다.\n"
     ]
    }
   ],
   "source": [
    "age = int(input(\"나이를 입력\"))\n",
    "print(str(age)+\"살입니다.\")"
   ]
  },
  {
   "cell_type": "code",
   "execution_count": 6,
   "id": "e86a0dc3-c209-4eda-9097-8ca92bed5fb9",
   "metadata": {},
   "outputs": [
    {
     "name": "stdout",
     "output_type": "stream",
     "text": [
      "좋아요, 합격입니다!\n"
     ]
    }
   ],
   "source": [
    "score = 78\n",
    "if score >= 90:\n",
    "    print(\"정말 잘했어요!\")\n",
    "elif score >=60:\n",
    "    print(\"좋아요, 합격입니다!\")\n",
    "else:\n",
    "    print(\"다음에더 잘해봐요!\")"
   ]
  },
  {
   "cell_type": "code",
   "execution_count": 15,
   "id": "693f5b43-0728-418c-a1ad-233c257608c9",
   "metadata": {},
   "outputs": [
    {
     "name": "stdin",
     "output_type": "stream",
     "text": [
      "숫자를 입력하세요! -10\n"
     ]
    },
    {
     "name": "stdout",
     "output_type": "stream",
     "text": [
      "음수입니다.\n"
     ]
    }
   ],
   "source": [
    "#입력한 숫자의 양수/음수 판단\n",
    "\n",
    "num = int(input(\"숫자를 입력하세요!\"))\n",
    "\n",
    "if num > 0:\n",
    "    print(\"양수입니다.\")\n",
    "elif num == 0:\n",
    "    print(\"0입니다.\")\n",
    "else:\n",
    "    print(\"음수입니다.\")"
   ]
  },
  {
   "cell_type": "code",
   "execution_count": 19,
   "id": "8d071475-fda7-49c9-9b53-97d7d4e22efd",
   "metadata": {},
   "outputs": [
    {
     "name": "stdin",
     "output_type": "stream",
     "text": [
      "숫자를 입력하세요! 852\n"
     ]
    },
    {
     "name": "stdout",
     "output_type": "stream",
     "text": [
      "짝수\n"
     ]
    }
   ],
   "source": [
    "#입력한 숫자의 짝수/홀수 입력\n",
    "\n",
    "num = int(input(\"숫자를 입력하세요!\"))\n",
    "\n",
    "if (num%2) == 0:\n",
    "    print(\"짝수\")\n",
    "else:\n",
    "    print(\"홀수\")"
   ]
  },
  {
   "cell_type": "code",
   "execution_count": 22,
   "id": "2d078f1a-59a7-44e4-92c8-88ca46217875",
   "metadata": {},
   "outputs": [
    {
     "name": "stdin",
     "output_type": "stream",
     "text": [
      " 3 1\n"
     ]
    },
    {
     "name": "stdout",
     "output_type": "stream",
     "text": [
      "B승A패\n"
     ]
    }
   ],
   "source": [
    "#가위 바위보(Map)\n",
    "\n",
    "a, b = map(int,input().split())\n",
    "\n",
    "if a == b:\n",
    "  print(\"무승부\")\n",
    "elif (a == 1 and  b == 3) or (a == 3 and b == 2) or (a == 2 and b == 1):\n",
    "  print(\"A승B패\")\n",
    "elif (a == 3 and b == 1) or (a == 2 and b == 3) or (a == 1 and b == 2):\n",
    "  print(\"B승A패\")\n",
    "else:\n",
    "  print(\"잘못된입력\")"
   ]
  },
  {
   "cell_type": "code",
   "execution_count": null,
   "id": "ec19d942-35d6-426d-9291-dfd099e5fb8f",
   "metadata": {},
   "outputs": [],
   "source": []
  }
 ],
 "metadata": {
  "kernelspec": {
   "display_name": "Python 3 (ipykernel)",
   "language": "python",
   "name": "python3"
  },
  "language_info": {
   "codemirror_mode": {
    "name": "ipython",
    "version": 3
   },
   "file_extension": ".py",
   "mimetype": "text/x-python",
   "name": "python",
   "nbconvert_exporter": "python",
   "pygments_lexer": "ipython3",
   "version": "3.12.6"
  }
 },
 "nbformat": 4,
 "nbformat_minor": 5
}
