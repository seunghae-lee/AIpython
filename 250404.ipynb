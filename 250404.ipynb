{
 "cells": [
  {
   "cell_type": "code",
   "execution_count": 13,
   "id": "8abdafea-b3c3-4dba-90cf-5f67bab411bd",
   "metadata": {},
   "outputs": [
    {
     "name": "stdin",
     "output_type": "stream",
     "text": [
      "온도 종류(섭씨 또는 화씨):  섭씨\n",
      "섭씨온도:  40\n"
     ]
    },
    {
     "name": "stdout",
     "output_type": "stream",
     "text": [
      "화씨 온도: 104.0\n"
     ]
    }
   ],
   "source": [
    "# 온도변환기\n",
    "kind = input(\"온도 종류(섭씨 또는 화씨): \")\n",
    "temp = int(input(kind+\"온도: \"))\n",
    "\n",
    "if kind == \"섭씨\":\n",
    "    print(f\"화씨 온도: {temp*9/5+32}\")\n",
    "else:\n",
    "    print(f\"섭씨 온도: {(temp-32)*5/9}\")"
   ]
  },
  {
   "cell_type": "code",
   "execution_count": 19,
   "id": "1b241e73-f768-4c63-89ed-cc1b83ad0ab4",
   "metadata": {},
   "outputs": [
    {
     "name": "stdout",
     "output_type": "stream",
     "text": [
      "온도: 40.00\n"
     ]
    }
   ],
   "source": [
    "#정수 2자리 수까지 나오게 하기\n",
    "temp = 40.0\n",
    "print(\"온도: %.2f\" % temp)"
   ]
  },
  {
   "cell_type": "code",
   "execution_count": 20,
   "id": "135f781a-85b4-42e4-93f8-1a066d76492b",
   "metadata": {},
   "outputs": [
    {
     "name": "stdin",
     "output_type": "stream",
     "text": [
      "온도 종류(섭씨 또는 화씨):  섭씨\n",
      "섭씨온도:  30\n"
     ]
    },
    {
     "name": "stdout",
     "output_type": "stream",
     "text": [
      "화씨 온도: 86.00\n"
     ]
    }
   ],
   "source": [
    "# 온도변환기(소수 2자리수까지)\n",
    "kind = input(\"온도 종류(섭씨 또는 화씨): \")\n",
    "temp = int(input(kind+\"온도: \"))\n",
    "\n",
    "if kind == \"섭씨\":\n",
    "    C = temp*9/5+32\n",
    "    print(\"화씨 온도: %.2f\" % C)\n",
    "else:\n",
    "    F = (temp-32)*5/9\n",
    "    print(\"섭씨 온도: %.2f\" % F)"
   ]
  },
  {
   "cell_type": "code",
   "execution_count": 23,
   "id": "1469e5cc-0f40-405d-813f-cabe7bb71cdb",
   "metadata": {},
   "outputs": [
    {
     "name": "stdin",
     "output_type": "stream",
     "text": [
      "온도 종류(섭씨 또는 화씨):  섭씨\n",
      "섭씨온도:  30\n"
     ]
    },
    {
     "name": "stdout",
     "output_type": "stream",
     "text": [
      "화씨 온도: 86.00\n"
     ]
    }
   ],
   "source": [
    "# 온도변환기(소수 2자리수까지)\n",
    "kind = input(\"온도 종류(섭씨 또는 화씨): \")\n",
    "temp = int(input(kind+\"온도: \"))\n",
    "\n",
    "if kind == \"섭씨\":\n",
    "    print(\"화씨 온도: %.2f\" % (temp*9/5+32))\n",
    "else:\n",
    "    print(\"섭씨 온도: %.2f\" % ((temp-32)*5/9))"
   ]
  },
  {
   "cell_type": "code",
   "execution_count": 26,
   "id": "dc05d9e4-bdb8-4b75-9c57-f00ac60f979b",
   "metadata": {},
   "outputs": [
    {
     "name": "stdout",
     "output_type": "stream",
     "text": [
      "1부터 100까지의 수 하나를 정했습니다.\n",
      "이 숫자를 맞혀보세요\n",
      "23\n"
     ]
    },
    {
     "name": "stdin",
     "output_type": "stream",
     "text": [
      "1~100 숫자 입력:  70\n"
     ]
    },
    {
     "name": "stdout",
     "output_type": "stream",
     "text": [
      "70보다 작습니다.\n"
     ]
    },
    {
     "name": "stdin",
     "output_type": "stream",
     "text": [
      "1~100 숫자 입력:  10\n"
     ]
    },
    {
     "name": "stdout",
     "output_type": "stream",
     "text": [
      "10보다 큽니다.\n"
     ]
    },
    {
     "name": "stdin",
     "output_type": "stream",
     "text": [
      "1~100 숫자 입력:  20\n"
     ]
    },
    {
     "name": "stdout",
     "output_type": "stream",
     "text": [
      "20보다 큽니다.\n"
     ]
    },
    {
     "name": "stdin",
     "output_type": "stream",
     "text": [
      "1~100 숫자 입력:  23\n"
     ]
    },
    {
     "name": "stdout",
     "output_type": "stream",
     "text": [
      "정답입니다! 4회 만에 맞혔습니다.\n"
     ]
    }
   ],
   "source": [
    "#숫자 맞히기 게임\n",
    "import random\n",
    "\n",
    "print(\"1부터 100까지의 수 하나를 정했습니다.\")\n",
    "print(\"이 숫자를 맞혀보세요\")\n",
    "\n",
    "answer = random.randint(1,100)\n",
    "times = 0\n",
    "print(answer)\n",
    "\n",
    "while True:\n",
    "  user = int(input(\"1~100 숫자 입력: \"))\n",
    "  times += 1\n",
    "  if user == answer:\n",
    "    break\n",
    "   \n",
    "  elif user < answer:\n",
    "    print(f\"{user}보다 큽니다.\")\n",
    "  else:\n",
    "    print(f\"{user}보다 작습니다.\")\n",
    "\n",
    "print(f\"정답입니다! {times}회 만에 맞혔습니다.\")"
   ]
  },
  {
   "cell_type": "code",
   "execution_count": 28,
   "id": "da423b2b-b5d7-4e94-a7ed-8b232f045b73",
   "metadata": {},
   "outputs": [
    {
     "name": "stdout",
     "output_type": "stream",
     "text": [
      "1~45사이의 6개 수를 생성합니다.\n",
      "[43, 33, 7, 17, 26, 10]\n"
     ]
    }
   ],
   "source": [
    "# 랜덤과 리스트로 1~45사이의 6개 숫자 생성(문제점: 같은 번호가 나올 수 있다.->알고리즘으로 해결가능)\n",
    "import random\n",
    "\n",
    "print(\"1~45사이의 6개 수를 생성합니다.\")\n",
    "my_list = []\n",
    "\n",
    "for i in range(1,7):\n",
    "  num = random.randint(1,45)\n",
    "  my_list.append(num)\n",
    "\n",
    "\n",
    "print(my_list)"
   ]
  },
  {
   "cell_type": "code",
   "execution_count": 29,
   "id": "917fe659-aea6-494c-abf6-09eea354be17",
   "metadata": {},
   "outputs": [
    {
     "name": "stdout",
     "output_type": "stream",
     "text": [
      "86.4\n"
     ]
    }
   ],
   "source": [
    "# 성적 평균 계산\n",
    "성적 = [ 85, 92, 78, 90, 87]\n",
    "평균 = sum(성적)/len(성적)\n",
    "print(평균)"
   ]
  },
  {
   "cell_type": "code",
   "execution_count": 30,
   "id": "7f7410ec-ee29-47e7-9563-a568812c10c7",
   "metadata": {},
   "outputs": [
    {
     "name": "stdout",
     "output_type": "stream",
     "text": [
      "총합: 432\n",
      "평균: 86.4\n"
     ]
    }
   ],
   "source": [
    "# 성적 총합과 평균 계산\n",
    "성적 = [ 85, 92, 78, 90, 87]\n",
    "sum = 0\n",
    "for i in 성적:\n",
    "  sum += i\n",
    "count = 0\n",
    "for a in 성적:\n",
    "  count += 1\n",
    "mean = sum / count\n",
    "print(f\"총합: {sum}\")\n",
    "print(f\"평균: {mean}\")"
   ]
  }
 ],
 "metadata": {
  "kernelspec": {
   "display_name": "Python 3 (ipykernel)",
   "language": "python",
   "name": "python3"
  },
  "language_info": {
   "codemirror_mode": {
    "name": "ipython",
    "version": 3
   },
   "file_extension": ".py",
   "mimetype": "text/x-python",
   "name": "python",
   "nbconvert_exporter": "python",
   "pygments_lexer": "ipython3",
   "version": "3.12.6"
  }
 },
 "nbformat": 4,
 "nbformat_minor": 5
}
