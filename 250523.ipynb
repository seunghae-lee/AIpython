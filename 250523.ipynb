{
 "cells": [
  {
   "cell_type": "code",
   "execution_count": 53,
   "id": "884a8fcb-64fd-4858-a382-2f15fbc91132",
   "metadata": {},
   "outputs": [
    {
     "name": "stdout",
     "output_type": "stream",
     "text": [
      "    학번    이름   학년   점수 분반  공부시간\n",
      "0    1  신사임당  NaN   69  B     4\n",
      "1    2   홍길동  1.0   92  B     3\n",
      "2    3   강감찬  4.0   91  C    20\n",
      "3    4   강감찬  2.0   70  C     5\n",
      "4    5   강감찬  3.0   83  C     5\n",
      "5    6   이순신  4.0   95  A     0\n",
      "6    7   강감찬  4.0   71  C     1\n",
      "7    8   김유신  NaN   88  B     5\n",
      "8    9  신사임당  3.0   94  A     9\n",
      "9   10   홍길동  NaN   60  B     3\n",
      "10  11   NaN  1.0  200  C     0\n",
      "11  12  신사임당  2.0   96  A    20\n",
      "12  13   김유신  4.0   65  A     0\n",
      "13  14   NaN  2.0   98  C     1\n",
      "14  15   홍길동  4.0   77  A     2\n",
      "15  16   이순신  4.0   75  A     4\n",
      "16  17   NaN  3.0   64  A     2\n",
      "17  18   홍길동  4.0   91  A     0\n",
      "18  19   이순신  1.0  200  A     3\n",
      "19  20  신사임당  2.0   61  A     2\n",
      "20  20  신사임당  2.0   61  A     2\n"
     ]
    }
   ],
   "source": [
    "#문제 1 : 데이터 파일 읽어오기\n",
    "import pandas as pd\n",
    "df = pd.read_csv('example_data.csv')\n",
    "print(df)"
   ]
  },
  {
   "cell_type": "code",
   "execution_count": 54,
   "id": "6e5bee43-707a-4ede-8bc3-87dbc1255188",
   "metadata": {},
   "outputs": [
    {
     "name": "stdout",
     "output_type": "stream",
     "text": [
      "<class 'pandas.core.frame.DataFrame'>\n",
      "RangeIndex: 21 entries, 0 to 20\n",
      "Data columns (total 6 columns):\n",
      " #   Column  Non-Null Count  Dtype  \n",
      "---  ------  --------------  -----  \n",
      " 0   학번      21 non-null     int64  \n",
      " 1   이름      18 non-null     object \n",
      " 2   학년      18 non-null     float64\n",
      " 3   점수      21 non-null     int64  \n",
      " 4   분반      21 non-null     object \n",
      " 5   공부시간    21 non-null     int64  \n",
      "dtypes: float64(1), int64(3), object(2)\n",
      "memory usage: 1.1+ KB\n",
      "None\n"
     ]
    }
   ],
   "source": [
    "#문제 2 : 데이터 프레임의정보 요약\n",
    "print(df.info())"
   ]
  },
  {
   "cell_type": "code",
   "execution_count": 55,
   "id": "e87943cf-41b9-43fd-a3f0-d9beb8239a32",
   "metadata": {},
   "outputs": [
    {
     "name": "stdout",
     "output_type": "stream",
     "text": [
      "              학번         학년          점수       공부시간\n",
      "count  21.000000  18.000000   21.000000  21.000000\n",
      "mean   10.952381   2.777778   90.523810   4.333333\n",
      "std     6.127611   1.165966   38.647922   5.650959\n",
      "min     1.000000   1.000000   60.000000   0.000000\n",
      "25%     6.000000   2.000000   69.000000   1.000000\n",
      "50%    11.000000   3.000000   83.000000   3.000000\n",
      "75%    16.000000   4.000000   94.000000   5.000000\n",
      "max    20.000000   4.000000  200.000000  20.000000\n"
     ]
    }
   ],
   "source": [
    "#문제 3 기초 통계량 출력\n",
    "print(df.describe())"
   ]
  },
  {
   "cell_type": "code",
   "execution_count": 56,
   "id": "d45d46bb-fb3c-460a-9073-cbfbe1e8a8bb",
   "metadata": {},
   "outputs": [
    {
     "name": "stdout",
     "output_type": "stream",
     "text": [
      "학번      0\n",
      "이름      3\n",
      "학년      3\n",
      "점수      0\n",
      "분반      0\n",
      "공부시간    0\n",
      "dtype: int64\n"
     ]
    }
   ],
   "source": [
    "#문제 4 : 결측치 확인하기\n",
    "print(pd.isna(df).sum())"
   ]
  },
  {
   "cell_type": "code",
   "execution_count": 57,
   "id": "627b47a7-2939-48a1-9ad2-fb6212f92a09",
   "metadata": {},
   "outputs": [
    {
     "name": "stdout",
     "output_type": "stream",
     "text": [
      "이상치 계수 4\n",
      "    학번    이름   학년   점수 분반  공부시간\n",
      "2    3   강감찬  4.0   91  C    20\n",
      "10  11   NaN  1.0  200  C     0\n",
      "11  12  신사임당  2.0   96  A    20\n",
      "18  19   이순신  1.0  200  A     3\n"
     ]
    }
   ],
   "source": [
    "#문제 5: 이상치 확인하기\n",
    "outlier_df =df[(df['점수']>100) | (df['공부시간']>10)]\n",
    "print(\"이상치 계수\", len(outlier_df))\n",
    "print(outlier_df)"
   ]
  },
  {
   "cell_type": "code",
   "execution_count": 58,
   "id": "2b2d0739-e685-417c-baa6-e8f6dc4c832d",
   "metadata": {},
   "outputs": [
    {
     "name": "stdout",
     "output_type": "stream",
     "text": [
      "중복 제거 전 데이터프레임 크기: (21, 6)\n",
      "완전 중복 행 개수: 2\n",
      "    학번    이름   학년  점수 분반  공부시간\n",
      "19  20  신사임당  2.0  61  A     2\n",
      "20  20  신사임당  2.0  61  A     2\n"
     ]
    }
   ],
   "source": [
    "#문제 6 :중복된 행  있는지 찾기\n",
    "print(\"중복 제거 전 데이터프레임 크기:\",df.shape)\n",
    "arr = df[df.duplicated(keep=False)]\n",
    "print(\"완전 중복 행 개수:\",len(arr))\n",
    "print(arr)"
   ]
  },
  {
   "cell_type": "code",
   "execution_count": 59,
   "id": "d558d1e0-7ca4-4a4c-9b43-bf2bfcf43687",
   "metadata": {},
   "outputs": [
    {
     "name": "stdout",
     "output_type": "stream",
     "text": [
      "중복 제거 후 데이터프레임 크기: (20, 6)\n",
      "제거된 행 수: 1\n",
      "    학번    이름   학년   점수 분반  공부시간\n",
      "0    1  신사임당  NaN   69  B     4\n",
      "1    2   홍길동  1.0   92  B     3\n",
      "2    3   강감찬  4.0   91  C    20\n",
      "3    4   강감찬  2.0   70  C     5\n",
      "4    5   강감찬  3.0   83  C     5\n",
      "5    6   이순신  4.0   95  A     0\n",
      "6    7   강감찬  4.0   71  C     1\n",
      "7    8   김유신  NaN   88  B     5\n",
      "8    9  신사임당  3.0   94  A     9\n",
      "9   10   홍길동  NaN   60  B     3\n",
      "10  11   NaN  1.0  200  C     0\n",
      "11  12  신사임당  2.0   96  A    20\n",
      "12  13   김유신  4.0   65  A     0\n",
      "13  14   NaN  2.0   98  C     1\n",
      "14  15   홍길동  4.0   77  A     2\n",
      "15  16   이순신  4.0   75  A     4\n",
      "16  17   NaN  3.0   64  A     2\n",
      "17  18   홍길동  4.0   91  A     0\n",
      "18  19   이순신  1.0  200  A     3\n",
      "19  20  신사임당  2.0   61  A     2\n"
     ]
    }
   ],
   "source": [
    "#중복 데이터 삭제하기\n",
    "df2 = df.drop_duplicates()\n",
    "print('중복 제거 후 데이터프레임 크기:', df2.shape)\n",
    "print('제거된 행 수:', len(df)-len(df2))\n",
    "print(df2)"
   ]
  },
  {
   "cell_type": "code",
   "execution_count": 60,
   "id": "0eec1d71-4817-404d-9a04-e71db8c3301b",
   "metadata": {},
   "outputs": [
    {
     "data": {
      "image/png": "[encoded data removed]",
      "text/plain": [
       "<Figure size 1000x600 with 1 Axes>"
      ]
     },
     "metadata": {},
     "output_type": "display_data"
    }
   ],
   "source": [
    "#문제 9 : 시각화\n",
    "import matplotlib.pyplot as plt\n",
    "plt.rc('font',family='NanumBarunGothic')\n",
    "plt.figure(figsize=(10,6))\n",
    "plt.scatter(df['공부시간'],df['점수'])\n",
    "plt.grid(True,linestyle='-', alpha=0.3)\n",
    "plt.title('원본데이터:공부시간vs점수')\n",
    "plt.xlabel('공부시간')\n",
    "plt.ylabel('점수')\n",
    "plt.show()"
   ]
  },
  {
   "cell_type": "code",
   "execution_count": 77,
   "id": "979efd02-f68d-466a-bcf7-43154b1e2bc4",
   "metadata": {},
   "outputs": [
    {
     "name": "stdout",
     "output_type": "stream",
     "text": [
      "하위 25% 위치의 값 Q1: 11.75\n",
      "데이터의 중앙값(50% 위치) Q2: 13.5\n",
      "데이터의 상위 25% 위치의 값(하위 75% 위치) Q3: 36.25\n",
      "사분위수 범위(IQR): 24.5\n",
      "하한 경계(Lower Bound): -25.0\n",
      "상한 경계(Upper Bound): 73.0\n"
     ]
    }
   ],
   "source": [
    "#이상치 실습문제\n",
    "data = pd.Series([10, 11, 12, 13, 14, 15, 100, 101])\n",
    "Q1 = data.quantile(0.25)\n",
    "Q2 = data.quantile(0.5)\n",
    "Q3 = data.quantile(0.75)\n",
    "IQR =Q3-Q1\n",
    "print('하위 25% 위치의 값 Q1:', Q1)\n",
    "print('데이터의 중앙값(50% 위치) Q2:', Q2)\n",
    "print('데이터의 상위 25% 위치의 값(하위 75% 위치) Q3:', Q3)\n",
    "print('사분위수 범위(IQR):',IQR)\n",
    "print('하한 경계(Lower Bound):', Q1 - 1.5 * IQR)\n",
    "print('상한 경계(Upper Bound):', Q3 + 1.5 * IQR)"
   ]
  },
  {
   "cell_type": "code",
   "execution_count": 79,
   "id": "637eb633-36b0-465f-a152-6eb9e152838b",
   "metadata": {},
   "outputs": [],
   "source": [
    "#문제 10 이상치 데이터 탐색 및 제거\n",
    "Q1_score = df['점수'].quantile(0.25)\n",
    "Q3_score = df['점수'].quantile(0.75)\n",
    "IQR_score = Q3_score - Q1_score"
   ]
  },
  {
   "cell_type": "code",
   "execution_count": 80,
   "id": "5e702f1d-7dd3-4869-bfa5-63c1da011d4b",
   "metadata": {},
   "outputs": [],
   "source": [
    "lower_bound_score = Q1_score - 1.5 * IQR_score\n",
    "upper_bound_score = Q3_score + 1.5 * IQR_score"
   ]
  },
  {
   "cell_type": "code",
   "execution_count": 85,
   "id": "e320d608-ad3f-4ec2-932d-0c8537f2521e",
   "metadata": {},
   "outputs": [
    {
     "name": "stdout",
     "output_type": "stream",
     "text": [
      "점수 이상치:\n",
      "    학번   이름   학년   점수 분반  공부시간\n",
      "10  11  NaN  1.0  200  C     0\n",
      "18  19  이순신  1.0  200  A     3\n"
     ]
    }
   ],
   "source": [
    "score_outliers = df[(df['점수'] < lower_bound_score) | (df['점수'] > upper_bound_score)]\n",
    "print('점수 이상치:')\n",
    "print(score_outliers)"
   ]
  },
  {
   "cell_type": "code",
   "execution_count": 86,
   "id": "415e2be6-3576-42b3-8b9a-c164b60d90e7",
   "metadata": {},
   "outputs": [],
   "source": [
    "Q1_study = df['공부시간'].quantile(0.25)\n",
    "Q3_study = df['공부시간'].quantile(0.75)\n",
    "IQR_study = Q3_study - Q1_study"
   ]
  },
  {
   "cell_type": "code",
   "execution_count": 87,
   "id": "a5665177-bf2e-4b3f-9f2e-b006564aa8a5",
   "metadata": {},
   "outputs": [],
   "source": [
    "lower_bound_study = Q1_study - 1.5 * IQR_study\n",
    "upper_bound_study = Q3_study + 1.5 * IQR_study"
   ]
  },
  {
   "cell_type": "code",
   "execution_count": 88,
   "id": "edd92704-16f7-46c3-b01a-513c1cb7395f",
   "metadata": {},
   "outputs": [
    {
     "name": "stdout",
     "output_type": "stream",
     "text": [
      "공부시간 이상치:\n",
      "    학번    이름   학년  점수 분반  공부시간\n",
      "2    3   강감찬  4.0  91  C    20\n",
      "11  12  신사임당  2.0  96  A    20\n"
     ]
    }
   ],
   "source": [
    "study_outliers = df[(df['공부시간'] < lower_bound_study) | (df['공부시간'] > upper_bound_study)]\n",
    "print('공부시간 이상치:')\n",
    "print(study_outliers)"
   ]
  },
  {
   "cell_type": "code",
   "execution_count": 89,
   "id": "6dc7241f-780b-4cb6-89aa-b62c33a1cf00",
   "metadata": {},
   "outputs": [],
   "source": [
    "df_no_outliers = df[(df['점수'] >= lower_bound_score) & (df['점수'] <= upper_bound_score) & (df['공부시간'] >= lower_bound_study) & (df['공부시간'] <= upper_bound_study)]"
   ]
  },
  {
   "cell_type": "code",
   "execution_count": 90,
   "id": "9817b214-4386-47bf-9f9b-b0f4d23e7690",
   "metadata": {},
   "outputs": [
    {
     "name": "stdout",
     "output_type": "stream",
     "text": [
      "이상치가 제거된 데이터 프레임:\n",
      "    index  학번    이름   학년  점수 분반  공부시간\n",
      "0       0   1  신사임당  NaN  69  B     4\n",
      "1       1   2   홍길동  1.0  92  B     3\n",
      "2       3   4   강감찬  2.0  70  C     5\n",
      "3       4   5   강감찬  3.0  83  C     5\n",
      "4       5   6   이순신  4.0  95  A     0\n",
      "5       6   7   강감찬  4.0  71  C     1\n",
      "6       7   8   김유신  NaN  88  B     5\n",
      "7       8   9  신사임당  3.0  94  A     9\n",
      "8       9  10   홍길동  NaN  60  B     3\n",
      "9      12  13   김유신  4.0  65  A     0\n",
      "10     13  14   NaN  2.0  98  C     1\n",
      "11     14  15   홍길동  4.0  77  A     2\n",
      "12     15  16   이순신  4.0  75  A     4\n",
      "13     16  17   NaN  3.0  64  A     2\n",
      "14     17  18   홍길동  4.0  91  A     0\n",
      "15     19  20  신사임당  2.0  61  A     2\n",
      "16     20  20  신사임당  2.0  61  A     2\n"
     ]
    }
   ],
   "source": [
    "df_no_outliers = df_no_outliers.reset_index()\n",
    "print('이상치가 제거된 데이터 프레임:')\n",
    "print(df_no_outliers)"
   ]
  },
  {
   "cell_type": "code",
   "execution_count": 93,
   "id": "8a7acffa-3ae6-4045-a1c3-c71107715aea",
   "metadata": {},
   "outputs": [
    {
     "name": "stdout",
     "output_type": "stream",
     "text": [
      "문제11. 분반별 점수 평균\n",
      "분반\n",
      "A    75.89\n",
      "B    77.25\n",
      "C    80.50\n",
      "Name: 점수, dtype: float64\n"
     ]
    }
   ],
   "source": [
    "# 11 분반별 점수 평균 계산(기본 방법)\n",
    "print(\"문제11. 분반별 점수 평균\")\n",
    "class_mean = df_no_outliers.groupby('분반')['점수'].mean()\n",
    "print(class_mean.round(2))"
   ]
  },
  {
   "cell_type": "code",
   "execution_count": 94,
   "id": "435fc1d5-1791-4ced-b83b-791c4d10d33b",
   "metadata": {},
   "outputs": [
    {
     "data": {
      "image/png": "[encoded data removed]",
      "text/plain": [
       "<Figure size 1000x600 with 1 Axes>"
      ]
     },
     "metadata": {},
     "output_type": "display_data"
    }
   ],
   "source": [
    "import matplotlib.pyplot as plt\n",
    "plt.figure(figsize=(10,6))\n",
    "plt.rc('font',family='NanumBarunGothic')\n",
    "plt.bar(class_mean.index, class_mean.values, color='skyblue', width=0.6)\n",
    "plt.title('분반별 평균 점수', fontsize=16)\n",
    "plt.xlabel('분반', fontsize=14)\n",
    "plt.ylabel('평균 점수', fontsize=14)\n",
    "plt.grid(axis='y', alpha=0.3)\n",
    "plt.show()"
   ]
  },
  {
   "cell_type": "code",
   "execution_count": 102,
   "id": "80e6a033-5d12-4562-9ff1-526f999dc87c",
   "metadata": {},
   "outputs": [
    {
     "data": {
      "image/png": "[encoded data removed]",
      "text/plain": [
       "<Figure size 1000x600 with 1 Axes>"
      ]
     },
     "metadata": {},
     "output_type": "display_data"
    }
   ],
   "source": [
    "import matplotlib.pyplot as plt\n",
    "plt.figure(figsize=(10,6))\n",
    "plt.rc('font',family='NanumBarunGothic')\n",
    "plt.scatter(df_no_outliers['공부시간'], df_no_outliers['점수'], color='skyblue')\n",
    "plt.title('공부시간과 점수의 관계', fontsize=16)\n",
    "plt.xlabel('공부시간', fontsize=14)\n",
    "plt.ylabel('점수', fontsize=14)\n",
    "plt.grid(alpha=0.3)\n",
    "plt.show()"
   ]
  }
 ],
 "metadata": {
  "kernelspec": {
   "display_name": "Python 3 (ipykernel)",
   "language": "python",
   "name": "python3"
  },
  "language_info": {
   "codemirror_mode": {
    "name": "ipython",
    "version": 3
   },
   "file_extension": ".py",
   "mimetype": "text/x-python",
   "name": "python",
   "nbconvert_exporter": "python",
   "pygments_lexer": "ipython3",
   "version": "3.12.6"
  }
 },
 "nbformat": 4,
 "nbformat_minor": 5
}
